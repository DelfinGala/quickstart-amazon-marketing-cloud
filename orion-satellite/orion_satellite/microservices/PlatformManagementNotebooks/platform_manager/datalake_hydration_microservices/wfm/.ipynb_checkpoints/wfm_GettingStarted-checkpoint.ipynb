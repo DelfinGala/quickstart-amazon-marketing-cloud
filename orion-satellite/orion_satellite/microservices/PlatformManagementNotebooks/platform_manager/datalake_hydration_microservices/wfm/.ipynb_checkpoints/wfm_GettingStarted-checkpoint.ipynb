{
 "cells": [
  {
   "cell_type": "markdown",
   "id": "ba027db8",
   "metadata": {},
   "source": [
    "\n",
    "# Workflow Adminstrator Getting Started"
   ]
  },
  {
   "cell_type": "markdown",
   "id": "97cebfa9",
   "metadata": {},
   "source": [
    "#### The Workflow Manager can be used to manage and schedule AMC workflows\n",
    "#### The Workflow Manager notebooks are region specific\n",
    "\n",
    "#### 1. customerConfig_wfm_sample - This notebook provide steps to add/update/remove existing AMC clinets. The customer is automatically to on board new clients and enable AMC and sponsored Ads with default configuration. You can duplicate this notebook and maintain a notebook for each client.\n",
    "\n",
    "\n",
    "#### 2. workflowLibrary_wfm_sample - This notebook provide steps to add/update/remove Workflow Libraries. These are pre-defined AMC libraries which can be used across clients and can be automatically scheduled when a new client is on boarded.\n",
    "\n",
    "\n",
    "#### 3. workflows_wfm_sample - This notebook provide steps to add/update/remove AMC Workflows. These are AMC workflows which are created on AMC instance and ready to be scheduled.\n",
    "\n",
    "\n",
    "\n",
    "#### 4. workflowSchedules_wfm_sample - This notebook provide steps to add/update/remove AMC Workflows schedules. These AMC workflows will be executed on a schedule as configured.\n",
    "\n",
    "\n",
    "\n",
    "#### FAQs\n",
    "\n",
    "#### ----------------------------------------\n",
    "#### 1. How to add and schedule a workflow specific to a client without adding it to the Workflow library\n",
    "####   This requries a 2 Step Process.\n",
    "####    1. Use the workflows_wfm_sample notebook to create a workflow\n",
    "####    2. Use the workflowSchedules_wfm_sample to create a schedule for the workflow\n",
    "#### ----------------------------------------\n",
    "#### ----------------------------------------\n",
    "#### 2. How to update/remove an existing created workflow.\n",
    "####   Please refer the workflows_wfm_sample notebook and use the retrieve section to retrieve the existing configuration. Then refer the Create/Update section.\n",
    "#### ----------------------------------------\n",
    "#### ----------------------------------------\n",
    "#### 3. How to add a new workflow.\n",
    "####   Please refer the workflows_wfm_sample notebook and refer the Create/Update section.\n",
    "#### ----------------------------------------\n",
    "#### ----------------------------------------\n",
    "#### 4. How to update/remove an existing workflow schedule.\n",
    "####   Please refer the workflowSchedules_wfm_sample notebook and use the retrieve section to retrieve the existing schedule. Then refer the Create/Update section.\n",
    "#### ----------------------------------------\n",
    "#### ----------------------------------------\n",
    "#### 5. How to add a new workflow schedule.\n",
    "####   Please refer the workflowSchedules_wfm_sample and refer the Create/Update section.\n",
    "#### ----------------------------------------\n",
    "#### ----------------------------------------\n",
    "#### 6. How to update/remove Workflow Libraries.\n",
    "####   Please refer the workflowLibrary_wfm_sample notebook and use the retrieve section to retrieve the existing configuration for an existing workflow. Then use it as a base to update/insert in Create/Update section.\n",
    "#### ----------------------------------------\n",
    "#### ----------------------------------------\n",
    "#### 7. How to create Workflow Libraries.\n",
    "####   Please refer the workflowLibrary_wfm_sample notebook and refer the Create/Update section.\n",
    "#### ----------------------------------------"
   ]
  },
  {
   "cell_type": "code",
   "execution_count": null,
   "id": "c030e37e",
   "metadata": {},
   "outputs": [],
   "source": []
  }
 ],
 "metadata": {
  "kernelspec": {
   "display_name": "conda_python3",
   "language": "python",
   "name": "conda_python3"
  },
  "language_info": {
   "codemirror_mode": {
    "name": "ipython",
    "version": 3
   },
   "file_extension": ".py",
   "mimetype": "text/x-python",
   "name": "python",
   "nbconvert_exporter": "python",
   "pygments_lexer": "ipython3",
   "version": "3.6.13"
  }
 },
 "nbformat": 4,
 "nbformat_minor": 5
}

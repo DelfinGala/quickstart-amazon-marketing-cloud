{
 "cells": [
  {
   "cell_type": "markdown",
   "id": "74b242f6",
   "metadata": {},
   "source": [
    "# Client Manager Adminstrator\n",
    "#### DynamoDB Table - tps-&lt;teamName&gt;-CustomerConfig-&lt;env&gt;"
   ]
  },
  {
   "cell_type": "markdown",
   "id": "55f10356",
   "metadata": {},
   "source": [
    "## Client grouping concept\n",
    "### This notebook is used for onboarding clients for each sdlf team space\n",
    "### Each Client should be configured in the same AWS Region as the AMC INSTANCE.\n",
    "### Each client is defined by \n",
    "#### 1. AMC instance\n",
    "#### 2. Corresponding profiles ids which are grouped for this customer according the advertiserids used for setting up the AMC instance"
   ]
  },
  {
   "cell_type": "markdown",
   "id": "4d26ef65",
   "metadata": {},
   "source": [
    "#### -----------------------"
   ]
  },
  {
   "cell_type": "markdown",
   "id": "9625fcc1",
   "metadata": {},
   "source": [
    "## Global Configs\n",
    "#### Team name as per the foundation installation"
   ]
  },
  {
   "cell_type": "markdown",
   "id": "66c97836",
   "metadata": {},
   "source": [
    "#### -----------------------"
   ]
  },
  {
   "cell_type": "code",
   "execution_count": null,
   "id": "f551aa40",
   "metadata": {},
   "outputs": [],
   "source": [
    "## The Team Name configured in the SDLF platform\n",
    "SDLF_TEAM_NAME = \"demoteam\"\n",
    "## ARN of the secrets manager which is used to store the advertising api credentials. This has to created manually due to security compliance. \n",
    "## It should be created in the same region as the AMC instance\n",
    "SAS_SECRET_MANAGER_ARN = \"secret manger arn\"\n",
    "## Region of the AMC instance\n",
    "aws_region = \"us-east-1\""
   ]
  },
  {
   "cell_type": "code",
   "execution_count": null,
   "id": "180080ba",
   "metadata": {},
   "outputs": [],
   "source": [
    "import boto3\n",
    "if len(aws_region) == 0:\n",
    "    aws_region = str(boto3.Session().region_name)\n",
    "print(\"Region : \" + aws_region)"
   ]
  },
  {
   "cell_type": "markdown",
   "id": "0939db7c",
   "metadata": {},
   "source": [
    "## Sponsored Ads Base URL configuration\n",
    "### This section might need to be updated by referring to the https://advertising.amazon.com/API/docs/en-us/get-started/how-to-use-api > API Endpoints"
   ]
  },
  {
   "cell_type": "code",
   "execution_count": null,
   "id": "591bf9f6",
   "metadata": {},
   "outputs": [],
   "source": [
    "import json\n",
    "\n",
    "sas_base_api_url = {\n",
    "    \"us-east-1\" : \"https://advertising-api.amazon.com\",\n",
    "    \"eu-west-1\" : \"https://advertising-api-eu.amazon.com\",\n",
    "    \"me-south-1\" : \"https://advertising-api-fe.amazon.com\"\n",
    "}\n",
    "\n",
    "print(json.dumps(sas_base_api_url, indent=4))"
   ]
  },
  {
   "cell_type": "markdown",
   "id": "4acdaa00",
   "metadata": {},
   "source": [
    "## To view the list of configured client details\n",
    "#### Run the below cell to view the list"
   ]
  },
  {
   "cell_type": "markdown",
   "id": "c95deff2",
   "metadata": {},
   "source": [
    "#### -----------------------"
   ]
  },
  {
   "cell_type": "code",
   "execution_count": null,
   "id": "665945d5",
   "metadata": {},
   "outputs": [],
   "source": [
    "from atsclientslibraries.clientmgr import customer\n",
    "import pandas as pd\n",
    "## Pandas display configs\n",
    "pd.set_option('max_columns', None)\n",
    "pd.set_option('max_colwidth', None)\n",
    "pd.set_option('max_rows', None)\n",
    "\n",
    "df = customer.get_customers_config(ATS_TEAM_NAME=SDLF_TEAM_NAME)\n",
    "df.head()"
   ]
  },
  {
   "cell_type": "markdown",
   "id": "4f907c5e",
   "metadata": {},
   "source": [
    "#### -----------------------"
   ]
  },
  {
   "cell_type": "markdown",
   "id": "b860fb89",
   "metadata": {},
   "source": [
    "## To Insert or Update client details\n",
    "####        Run the below cell to setup abd verify the client configuration\n",
    "```\n",
    "{\n",
    "    \"customer_id\": <Customer ID which will be used to tag resources like bucket prefixes and table names in the platform. It has to unique and can be the name of the amc instance>,\n",
    "    \n",
    "    \"customer_name\":<Customer Name. This will be used to idenify a customer. Keep it less than 5 characters and avoid any special characters>,\n",
    "    \n",
    "    \"customer_type\": <ENDEMIC or NON-ENDEMIC>,\n",
    "    \n",
    "    \"region\":<Region of the AMC instance. This can be requested or retrieved from the ticket raised to the AMC team>,\n",
    "    \n",
    "    \"amc\":{\n",
    "        \"sdlf_datset_name\":<Name of the dataset which is configured in SDLF to process the AMC datasets>,\n",
    "        \n",
    "        \"endpoint_url\":<AMC instance endpoint. This can be requested or retrieved from the ticket raised to the AMC team >,\n",
    "        \n",
    "        \"aws_orange_account_id\":<AMC Orange Account. This can be requested or retrieved from the ticket raised to the AMC team>,\n",
    "        \n",
    "        \"aws_green_account_id\":<AMC Green Account. This can be requested or retrieved from the ticket raised to the AMC team>,\n",
    "        \n",
    "        \"bucket_name\":<Name of the bucket for the AMC Dataset landing bucket in your AWS account. This can be requested or retrieved from the ticket raised to the AMC team>,\n",
    "        \n",
    "        \"advertiser_ids\":<Comma seperated list of advertiser ids. This can be retrieved from the ticket raised to the AMC team. It is the list provided while raising the AMC instance>,\n",
    "        \n",
    "        \"entity_ids\":<Comma seperated list of Entity ids. This can be retrieved from the ticket raised to the AMC team. It is the list provided while raising the AMC instance>\"\n",
    "    }  ,  \n",
    "    \n",
    "    \"sas\":{\n",
    "        \n",
    "        \"sdlf_datset_name\":<Name of the dataset which is configured in SDLF to process the AMC datasets>,\n",
    "        \n",
    "        \"credential_arn\":<ARN of the secrets manager which is used to store the advertising api credentials. This has to created manually due to security compliance>,\n",
    "        \n",
    "        \"profile_details\":<Comma seperated Profile ids for which Sponsored Products/Brands/displayADs/DSP related reports/metadata are retrieved. It can be set to \"ALL\" if reports/metadata needs to retrieved for all profile ids. The list of profile IDs can be found on Advertising API console. You can also use the \"Retrieve Profiles\" section to get a list of >\n",
    "        \n",
    "        \"api_base_url\":<This is the base url used for specific region. In the \"Sponsored Ads Base URL configuration\" section has details about region specific API's base urls. This section might need to be updated by referring to the https://advertising.amazon.com/API/docs/en-us/get-started/how-to-use-api > API Endpoints >\n",
    "    }\n",
    "}\n",
    "```"
   ]
  },
  {
   "cell_type": "code",
   "execution_count": null,
   "id": "62da901f",
   "metadata": {},
   "outputs": [],
   "source": [
    "import json\n",
    "\n",
    "customer_details = {\n",
    "    \"customer_id\":\"democustomer\",\n",
    "    \"customer_name\":\"DemoCustomer\",\n",
    "    \"customer_type\": \"ENDEMIC\",\n",
    "    \"region\":aws_region,\n",
    "    \"amc\":{\n",
    "        \"sdlf_datset_name\":\"amcdataset\",\n",
    "        \"endpoint_url\":\"<amc url>\",\n",
    "        \"aws_orange_account_id\":\"<amc orange account number>\",\n",
    "        \"aws_green_account_id\":\"<amc green account number>\",\n",
    "        \"bucket_name\":\"<amc bucketname>\",\n",
    "        \"advertiser_ids\":\"<comma seperated advertiser ids>\",\n",
    "        \"entity_ids\":\"<comma seperated entity ids>\"\n",
    "    }\n",
    "}\n",
    "\n",
    "print(json.dumps(customer_details, indent=4))"
   ]
  },
  {
   "cell_type": "markdown",
   "id": "fe400de3",
   "metadata": {},
   "source": [
    "### Run the below cell to submit the client configuration. \n",
    "#### Before submitting verify the configuration by running the above cell"
   ]
  },
  {
   "cell_type": "code",
   "execution_count": null,
   "id": "bee68f59",
   "metadata": {},
   "outputs": [],
   "source": [
    "from atsclientslibraries.clientmgr import customer\n",
    "\n",
    "import boto3\n",
    "\n",
    "dynamodb_resp_wr = customer.set_customers_config(customer_details=customer_details, ATS_TEAM_NAME=SDLF_TEAM_NAME)\n",
    "dynamodb_resp_wr"
   ]
  },
  {
   "cell_type": "code",
   "execution_count": null,
   "id": "582e68b8",
   "metadata": {},
   "outputs": [],
   "source": []
  }
 ],
 "metadata": {
  "kernelspec": {
   "display_name": "conda_python3",
   "language": "python",
   "name": "conda_python3"
  },
  "language_info": {
   "codemirror_mode": {
    "name": "ipython",
    "version": 3
   },
   "file_extension": ".py",
   "mimetype": "text/x-python",
   "name": "python",
   "nbconvert_exporter": "python",
   "pygments_lexer": "ipython3",
   "version": "3.6.13"
  }
 },
 "nbformat": 4,
 "nbformat_minor": 5
}

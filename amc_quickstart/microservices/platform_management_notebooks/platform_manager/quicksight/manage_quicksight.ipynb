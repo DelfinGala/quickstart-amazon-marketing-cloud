{
 "cells": [
  {
   "cell_type": "markdown",
   "id": "b3d91e42",
   "metadata": {},
   "source": [
    "## Prerequisites\n",
    "\n",
    "### Completed the Getting Started Notebook\n",
    "\n",
    "In order for you to start creating templates in QuickSight you first must have hydrated your data lake and have data sitting in your S3 data lake. Following the steps in the `Getting_Started_With_AMC_Quickstart.ipynb` Notebook will lead you through the steps to do so.\n",
    "\n",
    "### Sign Up For Quicksight\n",
    "\n",
    "To subscribe to QuickSight:\n",
    "\n",
    "1. Sign in to your AWS account and open QuickSight from the AWS Management Console. You can find it under Analytics or by searching for QuickSight.\n",
    "\n",
    "2. Choose Sign up for QuickSight.\n",
    "\n",
    "3. Choose Standard or Enterprise Edition.\n",
    "\n",
    "4. For both Standard and Enterprise editions, make choices for the following items:\n",
    "\n",
    "    - Enter a unique account name for QuickSight. Your account name can only contain characters (A–Z and a–z), digits (0–9), and hyphens (-). If you use Microsoft AD, and it has a default alias, this alias is used for the account name.\n",
    "\n",
    "    - Enter a notification email address for the QuickSight account owner or group. This email address receives service and usage notifications.\n",
    "    \n",
    "    - Ensure Amazon S3, Amazon Athena, and Amazon SageMaker all have QuickSight Access\n",
    "\n",
    "5. Review the choices that you made, then choose Finish.\n"
   ]
  },
  {
   "cell_type": "markdown",
   "id": "96d2d0ff",
   "metadata": {},
   "source": [
    "## Import Libraries and Helper Functions"
   ]
  },
  {
   "cell_type": "code",
   "execution_count": null,
   "id": "9d9fc5c2",
   "metadata": {},
   "outputs": [],
   "source": [
    "import boto3\n",
    "import awswrangler as wr\n",
    "from quicksight_helper_functions.quicksight_functions import QSHelperFunctions"
   ]
  },
  {
   "cell_type": "code",
   "execution_count": null,
   "id": "da5acb72",
   "metadata": {},
   "outputs": [],
   "source": [
    "client = boto3.client('quicksight')\n",
    "client_lf = boto3.client('lakeformation')\n",
    "qs = QSHelperFunctions()"
   ]
  },
  {
   "cell_type": "markdown",
   "id": "cabc2eb9",
   "metadata": {},
   "source": [
    "### Set QuickSight Configuration\n",
    "\n",
    "1. Enter the desired names for the following QuickSight Variables:\n",
    "     - Data Source Name\n",
    "     - Template Name\n",
    "     - Analysis Name\n",
    "     - Dashboard Name\n",
    "2. Change the Glue DB and Table Names to your particular Glue Database and Table Created\n",
    "3. Ensure that the:\n",
    "    - Template ARN is the ARN of the Public Template Provided by AMC\n",
    "    - The Dataset Name matches the Dataset used for the Public Templated Provided by AMC\n",
    " "
   ]
  },
  {
   "cell_type": "code",
   "execution_count": null,
   "id": "37ecac16",
   "metadata": {},
   "outputs": [],
   "source": [
    "#Set QuickSight Variables \n",
    "data_source_name=\"amc_data_source_test\"\n",
    "dataset_name=\"amc_data_set\"\n",
    "template_name = \"amc_template\"\n",
    "analysis_name = \"amc_time_to_conversion_analysis\"\n",
    "dashboard_name=\"amc_dataset_dashboard\"\n",
    "\n",
    "#CHANGE THESE TO YOUR GLUE DB and Table Name\n",
    "glue_db=\"<ENTER YOUR GLUE DB NAME HERE>\"  \n",
    "glue_table=\"<ENTER YOUR GLUE TABLE NAME HERE>\"\n",
    "\n",
    "region=\"us-east-1\" #CHANGE TO YOUR AWS REGION\n",
    "accountid=wr.sts.get_account_id()"
   ]
  },
  {
   "cell_type": "markdown",
   "id": "73101398",
   "metadata": {},
   "source": [
    "## Add LakeFormation Permission\n",
    "\n",
    "Before creating any Quicksight Assets, we must pass AWS Lake Formation Permissions to both the QuickSight service role and your QuickSight User in order to get permissions to access the data.\n",
    "\n",
    "#### Add LakeFormation Permission To The Default QuickSight Service Role"
   ]
  },
  {
   "cell_type": "code",
   "execution_count": null,
   "id": "e7f12db0",
   "metadata": {},
   "outputs": [],
   "source": [
    "#Add admin role to lakeformation with SELECT permissions\n",
    "admin_role_arn_if = f'arn:aws:iam::{accountid}:role/service-role/aws-quicksight-service-role-v0'\n",
    "qs.grant_permission_lf(admin_role_arn_if, glue_db, [\"SELECT\"])"
   ]
  },
  {
   "cell_type": "markdown",
   "id": "4f618aad",
   "metadata": {},
   "source": [
    "#### Add LakeFormation Permission To Your QuickSight User\n",
    "\n",
    "Run the below cell to list all the users in your QuickSight account:"
   ]
  },
  {
   "cell_type": "code",
   "execution_count": 55,
   "id": "e1894406",
   "metadata": {},
   "outputs": [
    {
     "data": {
      "text/plain": [
       "['ADMIN/noahpaig-Isengard']"
      ]
     },
     "execution_count": 55,
     "metadata": {},
     "output_type": "execute_result"
    }
   ],
   "source": [
    "users=[]\n",
    "for user_details in wr.quicksight.list_users():\n",
    "    users.append(user_details[\"UserName\"])\n",
    "users"
   ]
  },
  {
   "cell_type": "markdown",
   "id": "535cc068",
   "metadata": {},
   "source": [
    "**Copy your Username in the below cell and run the following 2 cells to give your QuickSight User LakeFormation Permissions To Your Glue DB**"
   ]
  },
  {
   "cell_type": "code",
   "execution_count": null,
   "id": "8771fc0b",
   "metadata": {},
   "outputs": [],
   "source": [
    "# Add Username to Grant Permissions To\n",
    "username = \"<ENTER YOUR USERNAME HERE>\"\n",
    "username_list=[username]"
   ]
  },
  {
   "cell_type": "code",
   "execution_count": null,
   "id": "3af64de5",
   "metadata": {},
   "outputs": [],
   "source": [
    "#Add quicksight admin user to lakeformation with SUPER permissions\n",
    "quicksight_arn_lf = f'arn:aws:quicksight:{region}:{accountid}:user/default/{username}'\n",
    "# quicksight_arn_lf = \"arn:aws:quicksight:us-east-1:554934668058:user/default/ADMIN/noahpaig-Isengard\"\n",
    "qs.grant_permission_lf(quicksight_arn_lf, glue_db, [\"ALL\"])"
   ]
  },
  {
   "cell_type": "markdown",
   "id": "2afa5271",
   "metadata": {},
   "source": [
    "## Creating Amazon QuickSight Resources\n",
    "\n",
    "Now begin creating Amazon QuickSight resources by running the following cells\n",
    "\n",
    "### Check if QuickSight Dashboard Exists (Move Forward Only If Not)\n",
    "\n",
    "First check to make sure the dashboard name your are trying to create exists or not. If it already exists you will NOT be able to create another dashboard with the same name. Either delete the current dashboard with the given name or change `dashboard_name` to a new value\n"
   ]
  },
  {
   "cell_type": "code",
   "execution_count": null,
   "id": "bea08a7b",
   "metadata": {},
   "outputs": [],
   "source": [
    "qs.check_dashboard_exists(dashboard_name)      "
   ]
  },
  {
   "cell_type": "markdown",
   "id": "a44c2147",
   "metadata": {},
   "source": [
    "### Create QuickSight Data Source and Data Set For Athena Source\n",
    "\n",
    "Run these 2 cells to create an Athena Data Source in QuickSight. We also create a data set from the Glue DB and Table we specified earlier:"
   ]
  },
  {
   "cell_type": "code",
   "execution_count": null,
   "id": "3838c108",
   "metadata": {},
   "outputs": [],
   "source": [
    "qs.create_data_source(data_source_name, username_list)"
   ]
  },
  {
   "cell_type": "code",
   "execution_count": null,
   "id": "46de14bc",
   "metadata": {},
   "outputs": [],
   "source": [
    "qs.create_data_set(dataset_name, glue_db, glue_table, data_source_name, username_list)"
   ]
  },
  {
   "cell_type": "markdown",
   "id": "0f1c6c64",
   "metadata": {},
   "source": [
    "### Check to see if you have a QuickSight Template in your QuickSight Account\n",
    "\n",
    "The following cell lists all of the QuickSight templates in your AWS Account, if any exist. A template is required in your AWS Account in order to create continue using this notebook and create a QuickSight Dashboard or QuickSight Analysis:"
   ]
  },
  {
   "cell_type": "code",
   "execution_count": null,
   "id": "b617331e",
   "metadata": {},
   "outputs": [],
   "source": [
    "templates = wr.quicksight.list_templates()\n",
    "templates"
   ]
  },
  {
   "cell_type": "markdown",
   "id": "78f3be58",
   "metadata": {},
   "source": [
    "**Copy the template name in the cell below. This template will be used to create a QuickSight Dashboard and/or Analysis in the following steps.**"
   ]
  },
  {
   "cell_type": "code",
   "execution_count": null,
   "id": "ebf8a2dd",
   "metadata": {},
   "outputs": [],
   "source": [
    "template_name = \"<ENTER TEMPLATE NAME>\""
   ]
  },
  {
   "cell_type": "markdown",
   "id": "4822ccfd",
   "metadata": {},
   "source": [
    "### Option 1: Create and Publish Quicksight Dashboard from A Template\n",
    "\n",
    "Run the below cell to use the template in your AWS Account to create a QuickSight Dashboard. \n",
    "\n",
    "_NOTE: In this case you can not change the underlying analysis from the QuickSight Template (i.e. the dashboard can not be altered)_"
   ]
  },
  {
   "cell_type": "code",
   "execution_count": null,
   "id": "a50e40a4",
   "metadata": {},
   "outputs": [],
   "source": [
    "qs.create_dashboard_from_template(dashboard_name, username_list, region, dataset_name, template_name, accountid)"
   ]
  },
  {
   "cell_type": "markdown",
   "id": "963931c1",
   "metadata": {},
   "source": [
    "### Option 2: Create A QuickSight Analysis from A Template\n",
    "\n",
    "Run the below cell to use the template in your AWS Account to create a QuickSight Analysis. In this case, you can replicate the underlying analysis, verify or review, and develop further.\n",
    "\n",
    "_NOTE: To publish this analysis you must go click on the analysis created in QuickSight, then publish to a QuickSight Dashboard by clicking on `Share` and `Publish as Dashboard`_"
   ]
  },
  {
   "cell_type": "code",
   "execution_count": null,
   "id": "ca6b245c",
   "metadata": {},
   "outputs": [],
   "source": [
    "qs.create_analysis_from_template(accountid, analysis_name, username_list, dataset_name, region, template_name)"
   ]
  },
  {
   "cell_type": "markdown",
   "id": "f5a6b394",
   "metadata": {},
   "source": [
    "## Delete QuickSight Resources\n",
    "\n",
    "The below cells will help clean up any unused resources in QuickSight you would like to delete"
   ]
  },
  {
   "cell_type": "markdown",
   "id": "11f172b3",
   "metadata": {},
   "source": [
    "#### Delete A Single Dashboard\n",
    "\n",
    "Pass the `dashboard_name` to be deleted and run the below cell to delete that QuickSight Dashboard:"
   ]
  },
  {
   "cell_type": "code",
   "execution_count": null,
   "id": "3dae8497",
   "metadata": {},
   "outputs": [],
   "source": [
    "qs.delete_quicksight_dashboard(dashboard_name)"
   ]
  },
  {
   "cell_type": "markdown",
   "id": "d27c8d17",
   "metadata": {},
   "source": [
    "#### Delete A Single Analysis\n",
    "Pass the `analysis_name` to be deleted and run the below cell to delete that QuickSight Analysis:"
   ]
  },
  {
   "cell_type": "code",
   "execution_count": null,
   "id": "8560aa1a",
   "metadata": {},
   "outputs": [],
   "source": [
    "qs.delete_quicksight_analysis(accountid, analysis_name, region)"
   ]
  },
  {
   "cell_type": "markdown",
   "id": "db6aa7ff",
   "metadata": {},
   "source": [
    "#### Delete A Single Template\n",
    "Pass the `template_name` to be deleted and run the below cell to delete that QuickSight Template:"
   ]
  },
  {
   "cell_type": "code",
   "execution_count": null,
   "id": "8df2fc5c",
   "metadata": {},
   "outputs": [],
   "source": [
    "qs.delete_quicksight_template(template_name)"
   ]
  },
  {
   "cell_type": "markdown",
   "id": "ad6f6b45",
   "metadata": {},
   "source": [
    "#### Delete A Single Data Set\n",
    "Pass the `dataset_name` to be deleted and run the below cell to delete that QuickSight Dataset:"
   ]
  },
  {
   "cell_type": "code",
   "execution_count": null,
   "id": "7c0666ac",
   "metadata": {},
   "outputs": [],
   "source": [
    "qs.delete_quicksight_dataset(dataset_name)"
   ]
  },
  {
   "cell_type": "markdown",
   "id": "89b289f8",
   "metadata": {},
   "source": [
    "#### Delete A Single DataSource\n",
    "Pass the `data_source_name` to be deleted and run the below cell to delete that QuickSight Data Source:"
   ]
  },
  {
   "cell_type": "code",
   "execution_count": null,
   "id": "ae1f1c99",
   "metadata": {},
   "outputs": [],
   "source": [
    "qs.delete_quicksight_data_source(data_source_name)"
   ]
  },
  {
   "cell_type": "markdown",
   "id": "5825b953",
   "metadata": {},
   "source": [
    "#### OPTIONAL: Delete ALL QuickSight Datasets, Data Sources, Templates, and Dashboards.\n",
    "\n",
    "If you would like to delete all of the resources you have in QuickSight (excluding QuickSight Analyses), run the below cell:\n",
    "\n",
    "_NOTE: This will also delete all of the sample Datasets that QuickSight Provides to users when they first subscribe to Amazon QuickSight_"
   ]
  },
  {
   "cell_type": "code",
   "execution_count": null,
   "id": "c90e94e9",
   "metadata": {},
   "outputs": [],
   "source": [
    "qs.delete_all_quicksight_datasets()\n",
    "qs.delete_all_quicksight_data_sources()\n",
    "qs.delete_all_quicksight_templates()\n",
    "qs.delete_all_quicksight_dashboards()"
   ]
  },
  {
   "cell_type": "markdown",
   "id": "7934ecd1",
   "metadata": {},
   "source": [
    "_NOTE: In order to delete all of the QuickSight Analyses in your account, either pass the names of the analyses to the `qs.delete_quicksight_analysis()` function or manual delete the analyses from your QuickSight console_"
   ]
  },
  {
   "cell_type": "markdown",
   "id": "b78ae68b",
   "metadata": {},
   "source": [
    "### --------------------------------------------------------------------"
   ]
  },
  {
   "cell_type": "markdown",
   "id": "c2ccf17a",
   "metadata": {},
   "source": [
    "## EXAMPLE: Grant or Revoke Another Quicksight User Permissions\n",
    "\n",
    "The Below Cell is used to add another quicksight user permissions or admin permissions to a QuickSight Dashboard.\n"
   ]
  },
  {
   "cell_type": "code",
   "execution_count": null,
   "id": "2212b997",
   "metadata": {},
   "outputs": [],
   "source": [
    "\n",
    "username_list=[\"<ENTER YOUR QUICKSIGHT USERNAME OR A LIST OF USERNAMES>\"]\n",
    "dashboard_user_type = \"DASHBOARD_USER\" #OR \"DASHBOARD_ADMIN\"\n",
    "permission_type = \"GRANT\" #OR \"REVOKE\"\n",
    "\n",
    "qs.update_dashboard_permissions(permission_type, dashboard_name, username_list, dashboard_user_type, region)"
   ]
  }
 ],
 "metadata": {
  "kernelspec": {
   "display_name": "conda_python3",
   "language": "python",
   "name": "conda_python3"
  },
  "language_info": {
   "codemirror_mode": {
    "name": "ipython",
    "version": 3
   },
   "file_extension": ".py",
   "mimetype": "text/x-python",
   "name": "python",
   "nbconvert_exporter": "python",
   "pygments_lexer": "ipython3",
   "version": "3.6.13"
  }
 },
 "nbformat": 4,
 "nbformat_minor": 5
}
